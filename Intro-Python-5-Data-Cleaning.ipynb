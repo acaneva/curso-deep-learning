{
 "cells": [
  {
   "cell_type": "markdown",
   "id": "13897165",
   "metadata": {},
   "source": [
    "# Intro Python - Data Cleaning"
   ]
  },
  {
   "cell_type": "markdown",
   "id": "d90632dc-c82b-46bf-b762-589109150130",
   "metadata": {},
   "source": [
    "Creating practical examples for dataset exploration and cleaning folowing Datacamps cleaning cases checklist\n",
    "- [Cookbook](https://pandas.pydata.org/pandas-docs/stable/user_guide/cookbook.html)\n",
    "- [Datacamp cleaning cases reference](https://www.datacamp.com/blog/infographic-data-cleaning-checklist)"
   ]
  },
  {
   "cell_type": "code",
   "execution_count": 8,
   "id": "8319c6e4",
   "metadata": {},
   "outputs": [],
   "source": [
    "import pandas as pd\n",
    "import numpy as np"
   ]
  },
  {
   "cell_type": "markdown",
   "id": "bb860e39",
   "metadata": {},
   "source": [
    "# 1 - Data Exploration\n",
    "\n",
    "\n",
    "\n",
    "# 2 - Missing data\n",
    "- __Missing completely at random data__\n",
    "When there is no systematic relationship between missing values and other values within the dataset. No clue why are there missing values.\n",
    "- __Missing at random data__\n",
    "When there is a systematic relationship between missing data and other observed values. Eg. missing census data from a specific region.\n",
    "- __Missing not at random data__\n",
    "When there is a systematic relationship between missing data and other unobserved values. Eg.Temperature readings from a sensor missing because temparture was too low or high.\n",
    "\n",
    "# 3 - Data Constraints\n",
    "## 3.1 - Data type constraints\n",
    "Ensuring that different columns have the correct data type before beginning analysis"
   ]
  },
  {
   "cell_type": "markdown",
   "id": "32096fe0",
   "metadata": {},
   "source": [
    "## 3.2 - Data range constraints\n",
    "Ensuring that different columns have the correct range. This is especially the case for columns that have limits."
   ]
  },
  {
   "cell_type": "markdown",
   "id": "84d9d4ef",
   "metadata": {},
   "source": [
    "## 3.3 - Uniqueness constraints\n",
    "Ensuring that there are no exact or almost exact duplicates within rows"
   ]
  },
  {
   "cell_type": "markdown",
   "id": "faaf1ec6",
   "metadata": {},
   "source": [
    "# 4 - Text and Categorical Data"
   ]
  },
  {
   "cell_type": "markdown",
   "id": "81b4f1bc",
   "metadata": {},
   "source": [
    "## 4.1 - Membership constraints for categorical data\n",
    "Ensuring that categorical columns have correct and consistent categories"
   ]
  },
  {
   "cell_type": "markdown",
   "id": "9ff65964",
   "metadata": {},
   "source": [
    "## 4.2 - Length violation for text data\n",
    "Ensuring that text columns that follow a specific standard have the same string length"
   ]
  },
  {
   "cell_type": "markdown",
   "id": "4fef386a",
   "metadata": {},
   "source": [
    "## 4.3 - Text data inconsistent formatting\n",
    "Ensuring that text columns that follow a specific standard have the same string formatting"
   ]
  },
  {
   "cell_type": "markdown",
   "id": "de84b15d",
   "metadata": {},
   "source": [
    "# 5 - Data Uniformity"
   ]
  },
  {
   "cell_type": "markdown",
   "id": "3dddb918",
   "metadata": {},
   "source": [
    "## 5.1 - Unit uniformity for numeric columns\n",
    "Ensuring that numeric columns have the same units"
   ]
  },
  {
   "cell_type": "markdown",
   "id": "6eeba794",
   "metadata": {},
   "source": [
    "## 5.2 - Unit uniformity for date columns\n",
    "Ensuring that date columns have the same datetime format"
   ]
  },
  {
   "cell_type": "markdown",
   "id": "fed39c2d",
   "metadata": {},
   "source": [
    "## 5.3 - Crossfield validation for numeric columns\n",
    "Crossfield validation si when we use multiple fields in a dataset to ensure the validity of another"
   ]
  },
  {
   "cell_type": "markdown",
   "id": "9c382398",
   "metadata": {},
   "source": [
    "## 5.4 - Crossfield validation for date columns\n",
    "Ensuring that date and temporal columns pass sanity checks"
   ]
  }
 ],
 "metadata": {
  "kernelspec": {
   "display_name": "Python 3 (ipykernel)",
   "language": "python",
   "name": "python3"
  },
  "language_info": {
   "codemirror_mode": {
    "name": "ipython",
    "version": 3
   },
   "file_extension": ".py",
   "mimetype": "text/x-python",
   "name": "python",
   "nbconvert_exporter": "python",
   "pygments_lexer": "ipython3",
   "version": "3.8.13"
  }
 },
 "nbformat": 4,
 "nbformat_minor": 5
}
