{
 "cells": [
  {
   "cell_type": "markdown",
   "id": "c5d027cd",
   "metadata": {},
   "source": [
    "# Intro Python - Numpy"
   ]
  },
  {
   "cell_type": "markdown",
   "id": "b5c85b6c",
   "metadata": {},
   "source": [
    "- [Numpy](https://numpy.org/)\n",
    "- [Getting Started](https://numpy.org/doc/stable/user/absolute_beginners.html)"
   ]
  },
  {
   "cell_type": "code",
   "execution_count": 1,
   "id": "9c0b2238",
   "metadata": {},
   "outputs": [],
   "source": [
    "import numpy as np"
   ]
  },
  {
   "cell_type": "markdown",
   "id": "54e9a2a9",
   "metadata": {},
   "source": [
    "## Constantes\n",
    "- [Numpy Constants](https://numpy.org/doc/stable/reference/constants.html)"
   ]
  },
  {
   "cell_type": "code",
   "execution_count": 2,
   "id": "3b4496d2",
   "metadata": {},
   "outputs": [
    {
     "data": {
      "text/plain": [
       "3.141592653589793"
      ]
     },
     "execution_count": 2,
     "metadata": {},
     "output_type": "execute_result"
    }
   ],
   "source": [
    "np.pi"
   ]
  },
  {
   "cell_type": "code",
   "execution_count": 3,
   "id": "ae546173",
   "metadata": {},
   "outputs": [
    {
     "data": {
      "text/plain": [
       "2.718281828459045"
      ]
     },
     "execution_count": 3,
     "metadata": {},
     "output_type": "execute_result"
    }
   ],
   "source": [
    "np.e"
   ]
  },
  {
   "cell_type": "markdown",
   "id": "e3da2677",
   "metadata": {},
   "source": [
    "## Arrays\n",
    "- [Numpy Arrays vs Python Lists](https://www.geeksforgeeks.org/python-lists-vs-numpy-arrays/): una medición de almacenamiento y performance en operaciones simples. Hay que tener en cuenta que los arrays por definición contienen elementos del mismo tipo (son homogéneos). Y soportan una operación sobre todos sus elementos sin necesidad de iterar.\n",
    "- [Numpy Arrays](https://numpy.org/doc/stable/user/absolute_beginners.html#what-is-an-array)\n",
    "\n",
    "_You might occasionally hear an array referred to as a “ndarray,” which is shorthand for “N-dimensional array.” An N-dimensional array is simply an array with any number of dimensions. You might also hear 1-D, or one-dimensional array, 2-D, or two-dimensional array, and so on. The NumPy ndarray class is used to represent both matrices and vectors. A vector is an array with a single dimension (there’s no difference between row and column vectors), while a matrix refers to an array with two dimensions. For 3-D or higher dimensional arrays, the term tensor is also commonly used._"
   ]
  },
  {
   "cell_type": "markdown",
   "id": "bb86eb58",
   "metadata": {},
   "source": [
    "### [Creación e inicialización](https://numpy.org/doc/stable/user/absolute_beginners.html#how-to-create-a-basic-array) ([Creation Routines](https://numpy.org/doc/stable/reference/routines.array-creation.html))"
   ]
  },
  {
   "cell_type": "code",
   "execution_count": 66,
   "id": "52ce3ef8",
   "metadata": {},
   "outputs": [
    {
     "data": {
      "text/plain": [
       "array([[ 1,  2,  3,  4],\n",
       "       [ 5,  6,  7,  8],\n",
       "       [ 9, 10, 11, 12]])"
      ]
     },
     "execution_count": 66,
     "metadata": {},
     "output_type": "execute_result"
    }
   ],
   "source": [
    "# Creación e inicializacion con python lists\n",
    "a = np.array([[1, 2, 3, 4], [5, 6, 7, 8], [9, 10, 11, 12]])\n",
    "a"
   ]
  },
  {
   "cell_type": "code",
   "execution_count": 67,
   "id": "cdf17e3f",
   "metadata": {},
   "outputs": [
    {
     "data": {
      "text/plain": [
       "numpy.ndarray"
      ]
     },
     "execution_count": 67,
     "metadata": {},
     "output_type": "execute_result"
    }
   ],
   "source": [
    "type(a)"
   ]
  },
  {
   "cell_type": "code",
   "execution_count": 70,
   "id": "caa04880",
   "metadata": {},
   "outputs": [
    {
     "name": "stdout",
     "output_type": "stream",
     "text": [
      "Primera fila:  [1 2 3 4]\n",
      "Segundo elemento de la primera fila:  6\n",
      "Shape es cantidad de elementos por dimension (filas, columnas):  (3, 4)\n",
      "nDim es la cantidad de dimensiones:  2\n",
      "Size es elementos totales:  12\n"
     ]
    }
   ],
   "source": [
    "# ndim, size, shape\n",
    "print('Primera fila: ',a[0])\n",
    "print('Segundo elemento de la primera fila: ',a[1][1])\n",
    "print('Shape es cantidad de elementos por dimension (filas, columnas): ',a.shape)\n",
    "print('nDim es la cantidad de dimensiones: ',a.ndim)\n",
    "print('Size es elementos totales: ',a.size)\n"
   ]
  },
  {
   "cell_type": "code",
   "execution_count": 34,
   "id": "1e0fa067",
   "metadata": {},
   "outputs": [
    {
     "data": {
      "text/plain": [
       "array([0., 0., 0., 0., 0., 0., 0., 0., 0., 0.])"
      ]
     },
     "execution_count": 34,
     "metadata": {},
     "output_type": "execute_result"
    }
   ],
   "source": [
    "# Creacion e inicializacion con ceros o 1\n",
    "\n",
    "b = np.zeros(10) #ones(10)\n",
    "b"
   ]
  },
  {
   "cell_type": "code",
   "execution_count": 35,
   "id": "6840d319",
   "metadata": {},
   "outputs": [
    {
     "data": {
      "text/plain": [
       "array([0, 1, 2, 3, 4, 5, 6, 7, 8, 9])"
      ]
     },
     "execution_count": 35,
     "metadata": {},
     "output_type": "execute_result"
    }
   ],
   "source": [
    "# Creacion e inicializacion con secuencia\n",
    "# default 0 -> (valor)\n",
    "c = np.arange(10)\n",
    "c"
   ]
  },
  {
   "cell_type": "code",
   "execution_count": 24,
   "id": "359689f2",
   "metadata": {},
   "outputs": [
    {
     "data": {
      "text/plain": [
       "array([10, 20, 30, 40, 50, 60, 70, 80, 90])"
      ]
     },
     "execution_count": 24,
     "metadata": {},
     "output_type": "execute_result"
    }
   ],
   "source": [
    "# (valor inicial, valor final, paso)\n",
    "d = np.arange(10,100,10)\n",
    "d"
   ]
  },
  {
   "cell_type": "code",
   "execution_count": 36,
   "id": "5e165211",
   "metadata": {},
   "outputs": [
    {
     "data": {
      "text/plain": [
       "array([ 10.,  20.,  30.,  40.,  50.,  60.,  70.,  80.,  90., 100.])"
      ]
     },
     "execution_count": 36,
     "metadata": {},
     "output_type": "execute_result"
    }
   ],
   "source": [
    "# Creacion e inicializacion con espaciamiento lineal\n",
    "# (valor inicial, valor final, samples)\n",
    "\n",
    "e = np.linspace(10, 100, num=10)\n",
    "e"
   ]
  },
  {
   "cell_type": "code",
   "execution_count": 76,
   "id": "fe88e483",
   "metadata": {},
   "outputs": [
    {
     "data": {
      "text/plain": [
       "array([ 10,  20,  30,  40,  50,  60,  70,  80,  90, 100])"
      ]
     },
     "execution_count": 76,
     "metadata": {},
     "output_type": "execute_result"
    }
   ],
   "source": [
    "# por defecto es float, pero se puede especificar un dtype\n",
    "e = np.linspace(10, 100, num=10, dtype=np.int64)\n",
    "e"
   ]
  },
  {
   "cell_type": "markdown",
   "id": "21b1d2cf",
   "metadata": {},
   "source": [
    "#### [numpy.random](https://numpy.org/doc/stable/reference/random/index.html#numpyrandom)"
   ]
  },
  {
   "cell_type": "code",
   "execution_count": 113,
   "id": "3fc5af6e",
   "metadata": {},
   "outputs": [
    {
     "name": "stdout",
     "output_type": "stream",
     "text": [
      "Float samples [0.22733602 0.31675834 0.79736546 0.67625467 0.39110955 0.33281393\n",
      " 0.59830875 0.18673419 0.67275604 0.94180287]\n",
      "Int samples [ 8  3 10 10  8  7  2  1  3  5]\n",
      "Int matrix [[1 8]\n",
      " [5 7]\n",
      " [2 3]\n",
      " [2 7]\n",
      " [7 2]]\n",
      "Normal samples [ 1.32229806 -0.29969852  0.90291934 -1.62158273 -0.15818926  0.44948393\n",
      " -1.34360107 -0.08168759  1.72473993  2.61815943]\n"
     ]
    }
   ],
   "source": [
    "# Creacion e inicializacion con random\n",
    "# numpy.random.default_rng(seed)\n",
    "\n",
    "rng = np.random.default_rng(12345)\n",
    "\n",
    "# default 0 > float < 1\n",
    "print('Float samples',rng.random(10))\n",
    "\n",
    "# Integers\n",
    "# endpoint es para incluir bordes\n",
    "print('Int samples',rng.integers(low=1,high=10,size=10,endpoint=True))\n",
    "# size puede ser una matrix\n",
    "print('Int matrix',rng.integers(low=1,high=10,size=(5,2)))\n",
    "\n",
    "# Distributions\n",
    "print('Normal samples',rng.standard_normal(10))\n",
    "\n"
   ]
  },
  {
   "cell_type": "markdown",
   "id": "2e895042",
   "metadata": {},
   "source": [
    "#### [numpy.random.choice](https://numpy.org/doc/stable/reference/random/generated/numpy.random.choice.html)"
   ]
  },
  {
   "cell_type": "code",
   "execution_count": 114,
   "id": "29d98467",
   "metadata": {},
   "outputs": [
    {
     "data": {
      "text/plain": [
       "array([ 9,  9,  7,  7,  4, 10,  7,  8,  8,  9])"
      ]
     },
     "execution_count": 114,
     "metadata": {},
     "output_type": "execute_result"
    }
   ],
   "source": [
    "rng.integers(low=1, high=10, size=10, endpoint=True)"
   ]
  },
  {
   "cell_type": "code",
   "execution_count": 116,
   "id": "ec9556ba",
   "metadata": {},
   "outputs": [
    {
     "data": {
      "text/plain": [
       "array([ 7,  6, 10,  2,  3,  9,  8,  5,  4,  1])"
      ]
     },
     "execution_count": 116,
     "metadata": {},
     "output_type": "execute_result"
    }
   ],
   "source": [
    "np.random.choice(10, size=10, replace=False)+1"
   ]
  },
  {
   "cell_type": "code",
   "execution_count": 179,
   "id": "6e00042f",
   "metadata": {},
   "outputs": [
    {
     "data": {
      "text/plain": [
       "array(['blue', 'blue', 'red', 'red', 'red', 'green', 'green', 'green',\n",
       "       'green', 'blue'], dtype='<U5')"
      ]
     },
     "execution_count": 179,
     "metadata": {},
     "output_type": "execute_result"
    }
   ],
   "source": [
    "# se puede samplear sobre una lista o un array\n",
    "colors = np.array(['red','green','blue'])\n",
    "np.random.choice(colors,size=10,p=[0.5,0.4,0.1])"
   ]
  },
  {
   "cell_type": "markdown",
   "id": "953bd588",
   "metadata": {},
   "source": [
    "### [Agregar y ordenar elementos](https://numpy.org/doc/stable/user/absolute_beginners.html#adding-removing-and-sorting-elements) ([Manipulation Routines](https://numpy.org/doc/stable/reference/routines.array-manipulation.html))\n"
   ]
  },
  {
   "cell_type": "markdown",
   "id": "66bdb4f4",
   "metadata": {},
   "source": [
    "#### [numpy.concatenate](https://numpy.org/doc/stable/reference/generated/numpy.concatenate.html#)"
   ]
  },
  {
   "cell_type": "code",
   "execution_count": 37,
   "id": "f68c5ba1",
   "metadata": {},
   "outputs": [
    {
     "data": {
      "text/plain": [
       "array([1, 2, 3, 4, 5, 6, 7, 8])"
      ]
     },
     "execution_count": 37,
     "metadata": {},
     "output_type": "execute_result"
    }
   ],
   "source": [
    "a = np.array([1, 2, 3, 4])\n",
    "b = np.array([5, 6, 7, 8])\n",
    "\n",
    "np.concatenate((a,b))"
   ]
  },
  {
   "cell_type": "code",
   "execution_count": 45,
   "id": "8402eb7a",
   "metadata": {},
   "outputs": [
    {
     "data": {
      "text/plain": [
       "array([[1, 2],\n",
       "       [3, 4],\n",
       "       [5, 6]])"
      ]
     },
     "execution_count": 45,
     "metadata": {},
     "output_type": "execute_result"
    }
   ],
   "source": [
    "# arrays con mismo shape\n",
    "x = np.array([[1, 2], [3, 4]])\n",
    "y = np.array([[5, 6]])\n",
    "\n",
    "# numpy.concatenate((a1, a2, ...), axis=0, out=None, dtype=None, casting=\"same_kind\")\n",
    "np.concatenate((x,y))"
   ]
  },
  {
   "cell_type": "code",
   "execution_count": 44,
   "id": "61d1464a",
   "metadata": {},
   "outputs": [
    {
     "data": {
      "text/plain": [
       "array([[5],\n",
       "       [6]])"
      ]
     },
     "execution_count": 44,
     "metadata": {},
     "output_type": "execute_result"
    }
   ],
   "source": [
    "# trasponer\n",
    "y.T"
   ]
  },
  {
   "cell_type": "code",
   "execution_count": 48,
   "id": "b27d4996",
   "metadata": {},
   "outputs": [
    {
     "data": {
      "text/plain": [
       "array([[1, 2, 5],\n",
       "       [3, 4, 6]])"
      ]
     },
     "execution_count": 48,
     "metadata": {},
     "output_type": "execute_result"
    }
   ],
   "source": [
    "# por defecto el axis es la primera dimensión, sino se puede especificar\n",
    "np.concatenate((x,y.T),axis=1)"
   ]
  },
  {
   "cell_type": "code",
   "execution_count": 50,
   "id": "e9c12b9e",
   "metadata": {},
   "outputs": [
    {
     "data": {
      "text/plain": [
       "array([1, 2, 3, 4, 5, 6])"
      ]
     },
     "execution_count": 50,
     "metadata": {},
     "output_type": "execute_result"
    }
   ],
   "source": [
    "# flatenned matrix\n",
    "np.concatenate((x,y),axis=None)"
   ]
  },
  {
   "cell_type": "markdown",
   "id": "9e508096",
   "metadata": {},
   "source": [
    "#### [numpy.vstack](https://numpy.org/doc/stable/reference/generated/numpy.vstack.html) + [numpy.hstack](https://numpy.org/doc/stable/reference/generated/numpy.hstack.html)"
   ]
  },
  {
   "cell_type": "code",
   "execution_count": 162,
   "id": "05947ff2",
   "metadata": {},
   "outputs": [
    {
     "name": "stdout",
     "output_type": "stream",
     "text": [
      "Stackea filas:  [[1 2]\n",
      " [3 4]\n",
      " [5 6]\n",
      " [7 8]]\n",
      "Stackea columnas:  [[1 2 5 6]\n",
      " [3 4 7 8]]\n"
     ]
    }
   ],
   "source": [
    "a1 = np.array([[1,2],[3,4]])\n",
    "a2 = np.array([[5,6],[7,8]])\n",
    "\n",
    "print('Stackea filas: ', np.vstack((a1,a2)))\n",
    "print('Stackea columnas: ',np.hstack((a1,a2)))"
   ]
  },
  {
   "cell_type": "markdown",
   "id": "450a918d",
   "metadata": {},
   "source": [
    "#### [numpy.sort](https://numpy.org/doc/stable/reference/generated/numpy.sort.html#numpy.sort)"
   ]
  },
  {
   "cell_type": "code",
   "execution_count": 62,
   "id": "901fda83",
   "metadata": {},
   "outputs": [
    {
     "name": "stdout",
     "output_type": "stream",
     "text": [
      "[1 2 3 4 5 6]\n",
      "[6 5 4 3 2 1]\n"
     ]
    }
   ],
   "source": [
    "# numpy.sort(a, axis=- 1, kind=None, order=None) \n",
    "# default axis -1 es equivalente a decir último axis\n",
    "# kind {‘quicksort’, ‘mergesort’, ‘heapsort’, ‘stable’}\n",
    "# sort descending\n",
    "f=np.concatenate((x,y), axis=None)\n",
    "print(np.sort(f))\n",
    "print(-np.sort(-f))"
   ]
  },
  {
   "cell_type": "markdown",
   "id": "5e84a2dc",
   "metadata": {},
   "source": [
    "#### [numpy.transpose](https://numpy.org/doc/stable/reference/generated/numpy.transpose.html) "
   ]
  },
  {
   "cell_type": "code",
   "execution_count": 96,
   "id": "d807d691",
   "metadata": {},
   "outputs": [
    {
     "name": "stdout",
     "output_type": "stream",
     "text": [
      "[[ 6  3  2  3 10]\n",
      " [ 3  7  3  9  5]]\n",
      "[[ 6  3]\n",
      " [ 3  7]\n",
      " [ 2  3]\n",
      " [ 3  9]\n",
      " [10  5]]\n",
      "[[ 6  3]\n",
      " [ 3  7]\n",
      " [ 2  3]\n",
      " [ 3  9]\n",
      " [10  5]]\n"
     ]
    }
   ],
   "source": [
    "g = rng.integers(low=1,high=10,size=(2,5),endpoint=True)\n",
    "print(g)\n",
    "print(g.T)\n",
    "print(np.transpose(g))"
   ]
  },
  {
   "cell_type": "markdown",
   "id": "5033ef66",
   "metadata": {},
   "source": [
    "#### [numpy.ravel](https://numpy.org/doc/stable/reference/generated/numpy.ravel.html)"
   ]
  },
  {
   "cell_type": "code",
   "execution_count": 101,
   "id": "195a01bd",
   "metadata": {},
   "outputs": [
    {
     "data": {
      "text/plain": [
       "array([ 6,  3,  2,  3, 10,  3,  7,  3,  9,  5])"
      ]
     },
     "execution_count": 101,
     "metadata": {},
     "output_type": "execute_result"
    }
   ],
   "source": [
    "# order = ['C' fila mayor, 'F' columna mayor, 'A' continuo en memoria Fortran, 'K' continuo en memoria]\n",
    "np.ravel(g,order='C')\n"
   ]
  },
  {
   "cell_type": "markdown",
   "id": "4ea986ba",
   "metadata": {},
   "source": [
    "#### [numpy.reshape](https://numpy.org/doc/stable/reference/generated/numpy.reshape.html)"
   ]
  },
  {
   "cell_type": "code",
   "execution_count": 102,
   "id": "e225852e",
   "metadata": {},
   "outputs": [
    {
     "data": {
      "text/plain": [
       "array([[0, 1, 2, 3, 4],\n",
       "       [5, 6, 7, 8, 9]])"
      ]
     },
     "execution_count": 102,
     "metadata": {},
     "output_type": "execute_result"
    }
   ],
   "source": [
    "h = np.arange(10).reshape((2,5))\n",
    "h"
   ]
  },
  {
   "cell_type": "markdown",
   "id": "0a2722b6",
   "metadata": {},
   "source": [
    "#### [numpy.random.shuffle](https://numpy.org/doc/stable/reference/random/generated/numpy.random.shuffle.html)"
   ]
  },
  {
   "cell_type": "code",
   "execution_count": 122,
   "id": "38473eb7",
   "metadata": {},
   "outputs": [
    {
     "data": {
      "text/plain": [
       "array([ 7, 10,  6,  9,  4,  3,  1,  5,  8,  2])"
      ]
     },
     "execution_count": 122,
     "metadata": {},
     "output_type": "execute_result"
    }
   ],
   "source": [
    "# ej. 1 ocurrencia de cada uno, alternativa a np.random.choice sin reposición\n",
    "i = np.arange(10) +1\n",
    "np.random.shuffle(i)\n",
    "i"
   ]
  },
  {
   "cell_type": "markdown",
   "id": "2eb7e622",
   "metadata": {},
   "source": [
    "## [Indices](https://numpy.org/doc/stable/user/absolute_beginners.html#indexing-and-slicing)"
   ]
  },
  {
   "cell_type": "code",
   "execution_count": 119,
   "id": "335461c8",
   "metadata": {},
   "outputs": [],
   "source": [
    "data = np.arange(3) +1"
   ]
  },
  {
   "attachments": {
    "5ba1ec30-eb38-4a05-a5db-4be63a67d5a8.png": {
     "image/png": "[encoded data removed]"
    }
   },
   "cell_type": "markdown",
   "id": "f89026a4",
   "metadata": {},
   "source": [
    "![image.png](attachment:5ba1ec30-eb38-4a05-a5db-4be63a67d5a8.png)"
   ]
  },
  {
   "cell_type": "code",
   "execution_count": 120,
   "id": "7ac6717b",
   "metadata": {},
   "outputs": [
    {
     "data": {
      "text/plain": [
       "array([1, 2])"
      ]
     },
     "execution_count": 120,
     "metadata": {},
     "output_type": "execute_result"
    }
   ],
   "source": [
    "data[0:2]"
   ]
  },
  {
   "cell_type": "code",
   "execution_count": 121,
   "id": "696b4cb4",
   "metadata": {},
   "outputs": [
    {
     "data": {
      "text/plain": [
       "array([2, 3])"
      ]
     },
     "execution_count": 121,
     "metadata": {},
     "output_type": "execute_result"
    }
   ],
   "source": [
    "data[-2:]"
   ]
  },
  {
   "cell_type": "code",
   "execution_count": 124,
   "id": "4c1c7af8",
   "metadata": {},
   "outputs": [
    {
     "data": {
      "text/plain": [
       "array([2, 3])"
      ]
     },
     "execution_count": 124,
     "metadata": {},
     "output_type": "execute_result"
    }
   ],
   "source": [
    "data[data>=2]"
   ]
  },
  {
   "cell_type": "code",
   "execution_count": 126,
   "id": "5bdd181f",
   "metadata": {},
   "outputs": [
    {
     "data": {
      "text/plain": [
       "array([False,  True, False])"
      ]
     },
     "execution_count": 126,
     "metadata": {},
     "output_type": "execute_result"
    }
   ],
   "source": [
    "# retornar un array que cumpla la condicion\n",
    "data==2"
   ]
  },
  {
   "cell_type": "code",
   "execution_count": 164,
   "id": "929f890f",
   "metadata": {},
   "outputs": [],
   "source": [
    "data = np.arange(1,7,1).reshape((3,2))"
   ]
  },
  {
   "cell_type": "code",
   "execution_count": 165,
   "id": "2af8c14c",
   "metadata": {},
   "outputs": [
    {
     "data": {
      "text/plain": [
       "array([[1, 2],\n",
       "       [3, 4],\n",
       "       [5, 6]])"
      ]
     },
     "execution_count": 165,
     "metadata": {},
     "output_type": "execute_result"
    }
   ],
   "source": [
    "data"
   ]
  },
  {
   "cell_type": "code",
   "execution_count": 166,
   "id": "dae032b5",
   "metadata": {},
   "outputs": [
    {
     "data": {
      "text/plain": [
       "array([2, 4, 6])"
      ]
     },
     "execution_count": 166,
     "metadata": {},
     "output_type": "execute_result"
    }
   ],
   "source": [
    "#slicing\n",
    "data[:,1]"
   ]
  },
  {
   "cell_type": "code",
   "execution_count": 167,
   "id": "bc3fe6ff",
   "metadata": {},
   "outputs": [],
   "source": [
    "#dicing"
   ]
  },
  {
   "cell_type": "code",
   "execution_count": 170,
   "id": "7a3fca36",
   "metadata": {},
   "outputs": [
    {
     "data": {
      "text/plain": [
       "array([[1, 2],\n",
       "       [3, 4]])"
      ]
     },
     "execution_count": 170,
     "metadata": {},
     "output_type": "execute_result"
    }
   ],
   "source": [
    "data[0:2,0:2]"
   ]
  },
  {
   "cell_type": "markdown",
   "id": "68db4fd1",
   "metadata": {},
   "source": [
    "### [Agrupadores](https://numpy.org/doc/stable/user/absolute_beginners.html#more-useful-array-operations)"
   ]
  },
  {
   "cell_type": "code",
   "execution_count": 171,
   "id": "181181ea",
   "metadata": {},
   "outputs": [
    {
     "data": {
      "text/plain": [
       "6"
      ]
     },
     "execution_count": 171,
     "metadata": {},
     "output_type": "execute_result"
    }
   ],
   "source": [
    "data.max()"
   ]
  },
  {
   "cell_type": "code",
   "execution_count": 172,
   "id": "30d073fd",
   "metadata": {},
   "outputs": [
    {
     "data": {
      "text/plain": [
       "1"
      ]
     },
     "execution_count": 172,
     "metadata": {},
     "output_type": "execute_result"
    }
   ],
   "source": [
    "data.min()"
   ]
  },
  {
   "cell_type": "code",
   "execution_count": 173,
   "id": "b10ddc35",
   "metadata": {},
   "outputs": [
    {
     "data": {
      "text/plain": [
       "21"
      ]
     },
     "execution_count": 173,
     "metadata": {},
     "output_type": "execute_result"
    }
   ],
   "source": [
    "data.sum()"
   ]
  },
  {
   "cell_type": "code",
   "execution_count": 174,
   "id": "113d53b4",
   "metadata": {},
   "outputs": [
    {
     "data": {
      "text/plain": [
       "3.5"
      ]
     },
     "execution_count": 174,
     "metadata": {},
     "output_type": "execute_result"
    }
   ],
   "source": [
    "data.mean()"
   ]
  },
  {
   "cell_type": "code",
   "execution_count": 178,
   "id": "3e43dd2d",
   "metadata": {},
   "outputs": [
    {
     "data": {
      "text/plain": [
       "array([1.5, 3.5, 5.5])"
      ]
     },
     "execution_count": 178,
     "metadata": {},
     "output_type": "execute_result"
    }
   ],
   "source": [
    "data.mean(axis=1) #promedio de cada fila"
   ]
  },
  {
   "cell_type": "markdown",
   "id": "2f059c5e",
   "metadata": {},
   "source": [
    "### [Distribución Normal](https://numpy.org/doc/stable/reference/random/generated/numpy.random.standard_normal.html) (ampliando [Random Sampling](https://numpy.org/doc/stable/reference/random/index.html))"
   ]
  },
  {
   "attachments": {
    "eff69c57-adca-4d19-bb36-8de55c68ee5a.png": {
     "image/png": "[encoded data removed]"
    }
   },
   "cell_type": "markdown",
   "id": "e4e9fe99",
   "metadata": {},
   "source": [
    "![image.png](attachment:eff69c57-adca-4d19-bb36-8de55c68ee5a.png)"
   ]
  },
  {
   "cell_type": "code",
   "execution_count": null,
   "id": "f0d2f14b",
   "metadata": {},
   "outputs": [],
   "source": [
    "rng = np.random.default_rng(12345)"
   ]
  },
  {
   "attachments": {
    "af9d9fa0-6c3a-456d-a0a6-21d171fdafaf.png": {
     "image/png": "[encoded data removed]"
    }
   },
   "cell_type": "markdown",
   "id": "4fa031a8",
   "metadata": {},
   "source": [
    "![image.png](attachment:af9d9fa0-6c3a-456d-a0a6-21d171fdafaf.png) "
   ]
  },
  {
   "cell_type": "code",
   "execution_count": 202,
   "id": "2e1b88fb",
   "metadata": {},
   "outputs": [],
   "source": [
    "mu = 10\n",
    "sigma = 10\n",
    "\n",
    "n1 = mu + sigma * rng.standard_normal(size=10000)\n",
    "n2 = np.random.normal(mu,sigma,size=10000)"
   ]
  },
  {
   "cell_type": "code",
   "execution_count": 206,
   "id": "9c822c46",
   "metadata": {},
   "outputs": [
    {
     "data": {
      "text/plain": [
       "(array([  1,   0,   0,   0,   0,   0,   4,   3,   2,   5,   4,   3,   3,\n",
       "          7,   6,  10,  13,  12,  20,  23,  30,  36,  34,  42,  47,  55,\n",
       "         71,  79,  81,  81, 100, 107, 120, 149, 160, 171, 207, 173, 194,\n",
       "        233, 242, 269, 245, 243, 266, 285, 283, 264, 294, 324, 356, 318,\n",
       "        326, 295, 315, 297, 274, 262, 264, 203, 217, 197, 215, 161, 159,\n",
       "        147, 137, 102,  99,  97,  95,  68,  68,  54,  36,  44,  38,  29,\n",
       "         24,  18,  15,  16,  15,   9,   7,   4,   3,   2,   4,   2,   1,\n",
       "          2,   0,   0,   2,   1,   0,   0,   0,   1]),\n",
       " array([-28.21887374, -27.44518219, -26.67149064, -25.89779909,\n",
       "        -25.12410754, -24.35041599, -23.57672444, -22.80303289,\n",
       "        -22.02934134, -21.25564979, -20.48195824, -19.70826669,\n",
       "        -18.93457514, -18.16088359, -17.38719203, -16.61350048,\n",
       "        -15.83980893, -15.06611738, -14.29242583, -13.51873428,\n",
       "        -12.74504273, -11.97135118, -11.19765963, -10.42396808,\n",
       "         -9.65027653,  -8.87658498,  -8.10289343,  -7.32920188,\n",
       "         -6.55551033,  -5.78181878,  -5.00812723,  -4.23443568,\n",
       "         -3.46074413,  -2.68705258,  -1.91336103,  -1.13966948,\n",
       "         -0.36597793,   0.40771362,   1.18140517,   1.95509672,\n",
       "          2.72878827,   3.50247982,   4.27617137,   5.04986293,\n",
       "          5.82355448,   6.59724603,   7.37093758,   8.14462913,\n",
       "          8.91832068,   9.69201223,  10.46570378,  11.23939533,\n",
       "         12.01308688,  12.78677843,  13.56046998,  14.33416153,\n",
       "         15.10785308,  15.88154463,  16.65523618,  17.42892773,\n",
       "         18.20261928,  18.97631083,  19.75000238,  20.52369393,\n",
       "         21.29738548,  22.07107703,  22.84476858,  23.61846013,\n",
       "         24.39215168,  25.16584323,  25.93953478,  26.71322634,\n",
       "         27.48691789,  28.26060944,  29.03430099,  29.80799254,\n",
       "         30.58168409,  31.35537564,  32.12906719,  32.90275874,\n",
       "         33.67645029,  34.45014184,  35.22383339,  35.99752494,\n",
       "         36.77121649,  37.54490804,  38.31859959,  39.09229114,\n",
       "         39.86598269,  40.63967424,  41.41336579,  42.18705734,\n",
       "         42.96074889,  43.73444044,  44.50813199,  45.28182354,\n",
       "         46.05551509,  46.82920664,  47.60289819,  48.37658974,\n",
       "         49.1502813 ]))"
      ]
     },
     "execution_count": 206,
     "metadata": {},
     "output_type": "execute_result"
    }
   ],
   "source": [
    "np.histogram(n1,bins = 100)"
   ]
  },
  {
   "cell_type": "code",
   "execution_count": 207,
   "id": "2ce2170b",
   "metadata": {},
   "outputs": [
    {
     "data": {
      "text/plain": [
       "(array([  1.,   0.,   0.,   0.,   0.,   0.,   4.,   3.,   2.,   5.,   4.,\n",
       "          3.,   3.,   7.,   6.,  10.,  13.,  12.,  20.,  23.,  30.,  36.,\n",
       "         34.,  42.,  47.,  55.,  71.,  79.,  81.,  81., 100., 107., 120.,\n",
       "        149., 160., 171., 207., 173., 194., 233., 242., 269., 245., 243.,\n",
       "        266., 285., 283., 264., 294., 324., 356., 318., 326., 295., 315.,\n",
       "        297., 274., 262., 264., 203., 217., 197., 215., 161., 159., 147.,\n",
       "        137., 102.,  99.,  97.,  95.,  68.,  68.,  54.,  36.,  44.,  38.,\n",
       "         29.,  24.,  18.,  15.,  16.,  15.,   9.,   7.,   4.,   3.,   2.,\n",
       "          4.,   2.,   1.,   2.,   0.,   0.,   2.,   1.,   0.,   0.,   0.,\n",
       "          1.]),\n",
       " array([-28.21887374, -27.44518219, -26.67149064, -25.89779909,\n",
       "        -25.12410754, -24.35041599, -23.57672444, -22.80303289,\n",
       "        -22.02934134, -21.25564979, -20.48195824, -19.70826669,\n",
       "        -18.93457514, -18.16088359, -17.38719203, -16.61350048,\n",
       "        -15.83980893, -15.06611738, -14.29242583, -13.51873428,\n",
       "        -12.74504273, -11.97135118, -11.19765963, -10.42396808,\n",
       "         -9.65027653,  -8.87658498,  -8.10289343,  -7.32920188,\n",
       "         -6.55551033,  -5.78181878,  -5.00812723,  -4.23443568,\n",
       "         -3.46074413,  -2.68705258,  -1.91336103,  -1.13966948,\n",
       "         -0.36597793,   0.40771362,   1.18140517,   1.95509672,\n",
       "          2.72878827,   3.50247982,   4.27617137,   5.04986293,\n",
       "          5.82355448,   6.59724603,   7.37093758,   8.14462913,\n",
       "          8.91832068,   9.69201223,  10.46570378,  11.23939533,\n",
       "         12.01308688,  12.78677843,  13.56046998,  14.33416153,\n",
       "         15.10785308,  15.88154463,  16.65523618,  17.42892773,\n",
       "         18.20261928,  18.97631083,  19.75000238,  20.52369393,\n",
       "         21.29738548,  22.07107703,  22.84476858,  23.61846013,\n",
       "         24.39215168,  25.16584323,  25.93953478,  26.71322634,\n",
       "         27.48691789,  28.26060944,  29.03430099,  29.80799254,\n",
       "         30.58168409,  31.35537564,  32.12906719,  32.90275874,\n",
       "         33.67645029,  34.45014184,  35.22383339,  35.99752494,\n",
       "         36.77121649,  37.54490804,  38.31859959,  39.09229114,\n",
       "         39.86598269,  40.63967424,  41.41336579,  42.18705734,\n",
       "         42.96074889,  43.73444044,  44.50813199,  45.28182354,\n",
       "         46.05551509,  46.82920664,  47.60289819,  48.37658974,\n",
       "         49.1502813 ]),\n",
       " <BarContainer object of 100 artists>)"
      ]
     },
     "execution_count": 207,
     "metadata": {},
     "output_type": "execute_result"
    },
    {
     "data": {
      "image/png": "[encoded data removed]",
      "text/plain": [
       "<Figure size 432x288 with 1 Axes>"
      ]
     },
     "metadata": {
      "needs_background": "light"
     },
     "output_type": "display_data"
    }
   ],
   "source": [
    "from matplotlib import pyplot as plt\n",
    "\n",
    "plt.hist(n1,bins=100)"
   ]
  },
  {
   "cell_type": "code",
   "execution_count": 208,
   "id": "84468227",
   "metadata": {},
   "outputs": [
    {
     "data": {
      "text/plain": [
       "(array([  2.,   0.,   0.,   1.,   0.,   1.,   1.,   1.,   1.,   0.,   4.,\n",
       "          1.,   0.,   1.,   4.,   5.,   9.,   7.,  10.,  15.,  11.,  18.,\n",
       "         14.,  32.,  23.,  28.,  40.,  46.,  41.,  61.,  51.,  79.,  97.,\n",
       "         84., 104., 121., 127., 146., 178., 179., 173., 206., 219., 189.,\n",
       "        222., 253., 251., 262., 318., 266., 313., 291., 291., 312., 300.,\n",
       "        298., 301., 288., 268., 287., 277., 236., 244., 231., 211., 212.,\n",
       "        181., 167., 164., 134., 137., 137., 114.,  89.,  73.,  76.,  69.,\n",
       "         52.,  62.,  51.,  35.,  23.,  25.,  34.,  24.,  17.,  14.,   9.,\n",
       "          9.,  11.,   7.,   3.,   5.,   5.,   3.,   4.,   2.,   0.,   0.,\n",
       "          2.]),\n",
       " array([-30.26535969, -29.51592782, -28.76649595, -28.01706408,\n",
       "        -27.26763221, -26.51820034, -25.76876847, -25.01933661,\n",
       "        -24.26990474, -23.52047287, -22.771041  , -22.02160913,\n",
       "        -21.27217726, -20.52274539, -19.77331352, -19.02388165,\n",
       "        -18.27444979, -17.52501792, -16.77558605, -16.02615418,\n",
       "        -15.27672231, -14.52729044, -13.77785857, -13.0284267 ,\n",
       "        -12.27899483, -11.52956297, -10.7801311 , -10.03069923,\n",
       "         -9.28126736,  -8.53183549,  -7.78240362,  -7.03297175,\n",
       "         -6.28353988,  -5.53410802,  -4.78467615,  -4.03524428,\n",
       "         -3.28581241,  -2.53638054,  -1.78694867,  -1.0375168 ,\n",
       "         -0.28808493,   0.46134694,   1.2107788 ,   1.96021067,\n",
       "          2.70964254,   3.45907441,   4.20850628,   4.95793815,\n",
       "          5.70737002,   6.45680189,   7.20623376,   7.95566562,\n",
       "          8.70509749,   9.45452936,  10.20396123,  10.9533931 ,\n",
       "         11.70282497,  12.45225684,  13.20168871,  13.95112057,\n",
       "         14.70055244,  15.44998431,  16.19941618,  16.94884805,\n",
       "         17.69827992,  18.44771179,  19.19714366,  19.94657553,\n",
       "         20.69600739,  21.44543926,  22.19487113,  22.944303  ,\n",
       "         23.69373487,  24.44316674,  25.19259861,  25.94203048,\n",
       "         26.69146234,  27.44089421,  28.19032608,  28.93975795,\n",
       "         29.68918982,  30.43862169,  31.18805356,  31.93748543,\n",
       "         32.6869173 ,  33.43634916,  34.18578103,  34.9352129 ,\n",
       "         35.68464477,  36.43407664,  37.18350851,  37.93294038,\n",
       "         38.68237225,  39.43180412,  40.18123598,  40.93066785,\n",
       "         41.68009972,  42.42953159,  43.17896346,  43.92839533,\n",
       "         44.6778272 ]),\n",
       " <BarContainer object of 100 artists>)"
      ]
     },
     "execution_count": 208,
     "metadata": {},
     "output_type": "execute_result"
    },
    {
     "data": {
      "image/png": "[encoded data removed]",
      "text/plain": [
       "<Figure size 432x288 with 1 Axes>"
      ]
     },
     "metadata": {
      "needs_background": "light"
     },
     "output_type": "display_data"
    }
   ],
   "source": [
    "plt.hist(n2,bins=100)"
   ]
  },
  {
   "cell_type": "code",
   "execution_count": null,
   "id": "ef6fafce",
   "metadata": {},
   "outputs": [],
   "source": []
  },
  {
   "cell_type": "code",
   "execution_count": null,
   "id": "0035192a",
   "metadata": {},
   "outputs": [],
   "source": []
  }
 ],
 "metadata": {
  "kernelspec": {
   "display_name": "Python 3 (ipykernel)",
   "language": "python",
   "name": "python3"
  },
  "language_info": {
   "codemirror_mode": {
    "name": "ipython",
    "version": 3
   },
   "file_extension": ".py",
   "mimetype": "text/x-python",
   "name": "python",
   "nbconvert_exporter": "python",
   "pygments_lexer": "ipython3",
   "version": "3.8.13"
  }
 },
 "nbformat": 4,
 "nbformat_minor": 5
}
