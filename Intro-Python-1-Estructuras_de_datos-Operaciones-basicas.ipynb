{
 "cells": [
  {
   "cell_type": "markdown",
   "id": "0057de29",
   "metadata": {},
   "source": [
    "# Intro Python"
   ]
  },
  {
   "cell_type": "markdown",
   "id": "1644140b",
   "metadata": {},
   "source": [
    "## Types\n",
    "\n",
    "- Text Type:**str**\n",
    "- Numeric Types:**int, float, complex**\n",
    "- Sequence Types:**list, tuple, range**\n",
    "- Mapping Type:**dict**\n",
    "- Set Types:**set, frozenset**\n",
    "- Boolean Type:**bool**\n",
    "- Binary Types:**bytes, bytearray, memoryview**\n",
    "- None Type:**NoneType**"
   ]
  },
  {
   "cell_type": "code",
   "execution_count": 14,
   "id": "d0631eb3",
   "metadata": {},
   "outputs": [
    {
     "name": "stdout",
     "output_type": "stream",
     "text": [
      "<class 'str'>\n",
      "<class 'int'> <class 'float'>\n",
      "<class 'tuple'> <class 'list'>\n",
      "<class 'dict'>\n",
      "<class 'set'>\n",
      "<class 'bool'>\n"
     ]
    }
   ],
   "source": [
    "print(type(\"Hola\"))\n",
    "print(type(1),type(1.0))\n",
    "print(type(()),type([]))\n",
    "print(type({}))\n",
    "print(type({\"papa\",\"manzana\"}))\n",
    "print(type(1==1))"
   ]
  },
  {
   "cell_type": "markdown",
   "id": "7bcd343d",
   "metadata": {},
   "source": [
    "## Operadores\n",
    "\n",
    "<table align=\"left\">\n",
    "    <tr>\n",
    "        <th>Operador</th>\n",
    "        <th>Tipo</th>\n",
    "        <th>Ejemplo</th>\n",
    "    </tr>\n",
    "    <tr>\n",
    "        <td>//</td>\n",
    "        <td>División entera</td>\n",
    "        <td>10 // 3 (3)</td>\n",
    "    </tr>\n",
    "    <tr>\n",
    "        <td>%</td>\n",
    "        <td>Resto</td>\n",
    "        <td>10 % 3 (1)</td>\n",
    "    </tr>\n",
    "    <tr>\n",
    "        <td>**</td>\n",
    "        <td>Potencia</td>\n",
    "        <td>4 ** 2 (16)</td>\n",
    "    </tr>\n",
    "</table>"
   ]
  },
  {
   "cell_type": "markdown",
   "id": "9230489e",
   "metadata": {},
   "source": [
    "## Listas\n",
    "### Indexar y recorrer"
   ]
  },
  {
   "cell_type": "code",
   "execution_count": 1,
   "id": "b39604be",
   "metadata": {},
   "outputs": [
    {
     "data": {
      "text/plain": [
       "2"
      ]
     },
     "execution_count": 1,
     "metadata": {},
     "output_type": "execute_result"
    }
   ],
   "source": [
    "lista = [1,2,'a','b',[4,5]]\n",
    "\n",
    "# cuenta desde 0\n",
    "lista[1]"
   ]
  },
  {
   "cell_type": "code",
   "execution_count": 2,
   "id": "557ec3ba",
   "metadata": {},
   "outputs": [
    {
     "data": {
      "text/plain": [
       "['a', 'b']"
      ]
     },
     "execution_count": 2,
     "metadata": {},
     "output_type": "execute_result"
    }
   ],
   "source": [
    "# :x es <x\n",
    "lista[2:4]"
   ]
  },
  {
   "cell_type": "code",
   "execution_count": 3,
   "id": "2f992166",
   "metadata": {},
   "outputs": [
    {
     "data": {
      "text/plain": [
       "[1, 2, 'a', 'b']"
      ]
     },
     "execution_count": 3,
     "metadata": {},
     "output_type": "execute_result"
    }
   ],
   "source": [
    "# default: es 0\n",
    "lista[:4]"
   ]
  },
  {
   "cell_type": "code",
   "execution_count": 4,
   "id": "6cf7eb74",
   "metadata": {},
   "outputs": [
    {
     "data": {
      "text/plain": [
       "[2]"
      ]
     },
     "execution_count": 4,
     "metadata": {},
     "output_type": "execute_result"
    }
   ],
   "source": [
    "# índice negativo desde el final\n",
    "lista[-4:-3]"
   ]
  },
  {
   "cell_type": "code",
   "execution_count": 5,
   "id": "fcd20b18",
   "metadata": {},
   "outputs": [
    {
     "data": {
      "text/plain": [
       "3"
      ]
     },
     "execution_count": 5,
     "metadata": {},
     "output_type": "execute_result"
    }
   ],
   "source": [
    "# posición o error \n",
    "lista.index('b')"
   ]
  },
  {
   "cell_type": "code",
   "execution_count": 6,
   "id": "dbff96b0",
   "metadata": {},
   "outputs": [
    {
     "data": {
      "text/plain": [
       "True"
      ]
     },
     "execution_count": 6,
     "metadata": {},
     "output_type": "execute_result"
    }
   ],
   "source": [
    "# incluye a\n",
    "'b' in lista"
   ]
  },
  {
   "cell_type": "code",
   "execution_count": 7,
   "id": "1036ea4d",
   "metadata": {},
   "outputs": [
    {
     "data": {
      "text/plain": [
       "5"
      ]
     },
     "execution_count": 7,
     "metadata": {},
     "output_type": "execute_result"
    }
   ],
   "source": [
    "# lista de listas\n",
    "lista[4][1]"
   ]
  },
  {
   "cell_type": "markdown",
   "id": "30350e99",
   "metadata": {},
   "source": [
    "### Métodos"
   ]
  },
  {
   "cell_type": "code",
   "execution_count": 8,
   "id": "10eb563f",
   "metadata": {},
   "outputs": [
    {
     "data": {
      "text/plain": [
       "[1, 2, 'a', 'b', [4, 5], 'c', 6, 7, 8, 'd', 'e']"
      ]
     },
     "execution_count": 8,
     "metadata": {},
     "output_type": "execute_result"
    }
   ],
   "source": [
    "# Agregar al final\n",
    "lista.append('c')\n",
    "lista = lista + [6,7,8]\n",
    "lista.extend(['d','e'])\n",
    "lista"
   ]
  },
  {
   "cell_type": "code",
   "execution_count": 9,
   "id": "a08f9562",
   "metadata": {},
   "outputs": [
    {
     "data": {
      "text/plain": [
       "[1,\n",
       " 2,\n",
       " 'a',\n",
       " 'b',\n",
       " [4, 5],\n",
       " 'c',\n",
       " 6,\n",
       " 7,\n",
       " 8,\n",
       " 'd',\n",
       " 'e',\n",
       " 1,\n",
       " 2,\n",
       " 'a',\n",
       " 'b',\n",
       " [4, 5],\n",
       " 'c',\n",
       " 6,\n",
       " 7,\n",
       " 8,\n",
       " 'd',\n",
       " 'e']"
      ]
     },
     "execution_count": 9,
     "metadata": {},
     "output_type": "execute_result"
    }
   ],
   "source": [
    "# concatenar a si misma varias veces\n",
    "lista * 2"
   ]
  },
  {
   "cell_type": "code",
   "execution_count": 10,
   "id": "b39c8962",
   "metadata": {},
   "outputs": [
    {
     "data": {
      "text/plain": [
       "[1, 2, 'a', 'b', [4, 5], 'c', 6, 7, 8, 'd']"
      ]
     },
     "execution_count": 10,
     "metadata": {},
     "output_type": "execute_result"
    }
   ],
   "source": [
    "# Sacar último elemento\n",
    "lista.pop()\n",
    "lista"
   ]
  },
  {
   "cell_type": "code",
   "execution_count": 11,
   "id": "a2e49c0c",
   "metadata": {},
   "outputs": [
    {
     "data": {
      "text/plain": [
       "[1, 2, 'a', 'b', [4, 5], 'c', 6, 7, 8, 'e', 'd']"
      ]
     },
     "execution_count": 11,
     "metadata": {},
     "output_type": "execute_result"
    }
   ],
   "source": [
    "lista.extend(['e','d'])\n",
    "lista\n",
    "# Remover la primera instancia encontrada\n",
    "lista.remove('d')\n",
    "lista"
   ]
  },
  {
   "cell_type": "code",
   "execution_count": 12,
   "id": "dce18118",
   "metadata": {},
   "outputs": [
    {
     "data": {
      "text/plain": [
       "['a', 'b', [4, 5], 'c', 6, 7, 8, 'e', 'd']"
      ]
     },
     "execution_count": 12,
     "metadata": {},
     "output_type": "execute_result"
    }
   ],
   "source": [
    "# Remover por indice\n",
    "del lista[:2]\n",
    "lista"
   ]
  },
  {
   "cell_type": "code",
   "execution_count": 13,
   "id": "97ad8f91",
   "metadata": {},
   "outputs": [
    {
     "data": {
      "text/plain": [
       "['a', 'b', [4, 5], 'c', 6, 7, 8, 'e', 'd']"
      ]
     },
     "execution_count": 13,
     "metadata": {},
     "output_type": "execute_result"
    }
   ],
   "source": [
    "lista"
   ]
  },
  {
   "cell_type": "code",
   "execution_count": 44,
   "id": "40404581",
   "metadata": {},
   "outputs": [
    {
     "name": "stdout",
     "output_type": "stream",
     "text": [
      "0 a\n",
      "1 b\n",
      "2 [4, 5]\n",
      "3 c\n",
      "4 6\n",
      "5 7\n",
      "6 8\n",
      "7 e\n",
      "8 d\n"
     ]
    }
   ],
   "source": [
    "# Enumerate\n",
    "for idx,elem in enumerate(lista):\n",
    "    print(idx, elem)"
   ]
  },
  {
   "cell_type": "code",
   "execution_count": 43,
   "id": "3f8e821b",
   "metadata": {},
   "outputs": [
    {
     "data": {
      "text/plain": [
       "[2, 4, 6, 8, 10, 12, 14, 16, 18]"
      ]
     },
     "execution_count": 43,
     "metadata": {},
     "output_type": "execute_result"
    }
   ],
   "source": [
    "# List comprehension para generar una lista en base a otra en forma mas performante\n",
    "palabras = ['abracadabra','azul','creciente','mar']\n",
    "palabrasConA = [ c for c in palabras if 'a' in c]\n",
    "palabrasConA\n",
    "\n",
    "pares = [2*x for x in range(1,10)]\n",
    "pares"
   ]
  },
  {
   "cell_type": "code",
   "execution_count": 15,
   "id": "a2af95e9",
   "metadata": {},
   "outputs": [
    {
     "name": "stdout",
     "output_type": "stream",
     "text": [
      "Upper: YO NO SOY MARINERO\n",
      "Lower: yo no soy marinero\n",
      "Capitalize: Yo no soy marinero\n",
      "Find: 10\n",
      "Replace: y0 n0 s0y mariner0\n",
      "Remove: yo no soy mariner\n",
      "Split: ['yo', 'no', 'soy', 'marinero']\n"
     ]
    }
   ],
   "source": [
    "#### Strings\n",
    "bamba = 'yo no soy marinero'\n",
    "print('Upper:',bamba.upper())\n",
    "print('Lower:',bamba.lower())\n",
    "print('Capitalize:',bamba.capitalize())\n",
    "print('Find:',bamba.find('marinero'))\n",
    "print('Replace:',bamba.replace('o','0'))\n",
    "print('Remove:',bamba.strip('o'))\n",
    "print('Split:', bamba.split(' '))\n"
   ]
  },
  {
   "cell_type": "code",
   "execution_count": 16,
   "id": "f2ac75df-8120-46ff-af38-dc738719434d",
   "metadata": {},
   "outputs": [
    {
     "name": "stdout",
     "output_type": "stream",
     "text": [
      "[3, 2, 3] [3, 2, 3] 140307987345792 140307987345792\n",
      "[3, 2, 3] [3, 2, 3] [1, 2, 3] 140307987345792 140307987345792 140307987244096\n",
      "[3, 2, 3] [3, 2, 3] [1, 2, 3] 140307987345792 140307987345792 140307987245184\n",
      "[3, 2, 3] [3, 2, 3] [1, 2, 3] 140307987345792 140307987345792 140307987304704\n"
     ]
    }
   ],
   "source": [
    "# Cloning lists\n",
    "# https://therenegadecoder.com/code/how-to-clone-a-list-in-python/\n",
    "\n",
    "# Assignments store references\n",
    "listA = [1,2,3]\n",
    "listB = listA\n",
    "listA[0]=3\n",
    "print(listA,listB, id(listA),id(listB))\n",
    "\n",
    "# Copy list by creating new object\n",
    "listC = list(listA)\n",
    "listC[0] = 1\n",
    "print(listA,listB,listC, id(listA),id(listB), id(listC))\n",
    "\n",
    "# Copy list by slicing (creates a new object)\n",
    "listD= listA[:]\n",
    "listD[0]=1\n",
    "print(listA,listB,listD, id(listA),id(listB), id(listD))\n",
    "\n",
    "# Copy list python3\n",
    "listE= listA.copy()\n",
    "listE[0]=1\n",
    "print(listA,listB,listE, id(listA),id(listB), id(listE))\n"
   ]
  },
  {
   "cell_type": "code",
   "execution_count": 27,
   "id": "7aa18e7b-8af9-4baa-aa97-f5d27c0c2ff7",
   "metadata": {},
   "outputs": [
    {
     "name": "stdout",
     "output_type": "stream",
     "text": [
      "[4, 4, 3]\n",
      "[4, 4, 3]\n",
      "[1, 2, 3, 4]\n"
     ]
    }
   ],
   "source": [
    "# Changing elements\n",
    "\n",
    "## Static asignment\n",
    "list1 = [1,2,3]\n",
    "list1[0] = 4\n",
    "list1[1] = 4\n",
    "print(list1)\n",
    "\n",
    "## Slice assignment\n",
    "list2 = [1,2,3]\n",
    "list2[0:2] = [4,4]\n",
    "print(list2)"
   ]
  },
  {
   "cell_type": "code",
   "execution_count": 36,
   "id": "216f8d9e-5858-4335-84cc-bf66c1e29fdb",
   "metadata": {},
   "outputs": [
    {
     "name": "stdout",
     "output_type": "stream",
     "text": [
      "[1, 2, 3] [4, 5, 6]\n",
      "['o', ' ', 'n', 'o', ' ', 's', 'o', 'y', ' ', 'm', 'a', 'r', 'i', 'n', 'e', 'r']\n"
     ]
    }
   ],
   "source": [
    "# List unpacking (unpacking iterables) \n",
    "# https://stackabuse.com/unpacking-in-python-beyond-parallel-assignment/\n",
    "\n",
    "# same that [rowA, rowB]\n",
    "rowA, rowB = [[1,2,3],[4,5,6]]\n",
    "print(rowA, rowB)\n",
    "\n",
    "# starred operator\n",
    "firstLetter, *middleLetters, lastLetter = \"Yo no soy marinero\"\n",
    "print (middleLetters)"
   ]
  },
  {
   "cell_type": "markdown",
   "id": "c2e125ef",
   "metadata": {},
   "source": [
    "## Tuplas\n",
    "- lista inmutable\n",
    "- soporta sólo accesos"
   ]
  },
  {
   "cell_type": "code",
   "execution_count": 16,
   "id": "7573d179",
   "metadata": {},
   "outputs": [
    {
     "data": {
      "text/plain": [
       "(1, 2)"
      ]
     },
     "execution_count": 16,
     "metadata": {},
     "output_type": "execute_result"
    }
   ],
   "source": [
    "tupla = (1,2,'a','b')\n",
    "tupla[0:2]"
   ]
  },
  {
   "cell_type": "code",
   "execution_count": 1,
   "id": "4cc77129",
   "metadata": {},
   "outputs": [
    {
     "name": "stdout",
     "output_type": "stream",
     "text": [
      "a b\n"
     ]
    }
   ],
   "source": [
    "# Unpacking\n",
    "var1, var2 = ('a','b')\n",
    "print(var1, var2)"
   ]
  },
  {
   "cell_type": "markdown",
   "id": "5a443cea",
   "metadata": {},
   "source": [
    "## Sets\n",
    "- No se garantiza orden\n",
    "- Se garantiza que cada elemento es único"
   ]
  },
  {
   "cell_type": "code",
   "execution_count": 27,
   "id": "d630ca72",
   "metadata": {},
   "outputs": [
    {
     "name": "stdout",
     "output_type": "stream",
     "text": [
      "{'azul', 'verde', 'rojo', 'amarillo'} {'rojo', 'amarillo'}\n"
     ]
    }
   ],
   "source": [
    "set1 = {'rojo', 'amarillo','verde','azul'}\n",
    "set2 = {'rojo', 'amarillo'}\n",
    "print(set1,set2)"
   ]
  },
  {
   "cell_type": "code",
   "execution_count": 29,
   "id": "f20a3fa9",
   "metadata": {},
   "outputs": [
    {
     "data": {
      "text/plain": [
       "True"
      ]
     },
     "execution_count": 29,
     "metadata": {},
     "output_type": "execute_result"
    }
   ],
   "source": [
    "set1.issuperset(set2)"
   ]
  },
  {
   "cell_type": "code",
   "execution_count": 30,
   "id": "c9904d65",
   "metadata": {},
   "outputs": [
    {
     "data": {
      "text/plain": [
       "True"
      ]
     },
     "execution_count": 30,
     "metadata": {},
     "output_type": "execute_result"
    }
   ],
   "source": [
    "set2.issubset(set1)"
   ]
  },
  {
   "cell_type": "markdown",
   "id": "99ea4bba",
   "metadata": {},
   "source": [
    "## Diccionarios\n",
    "### Inicialización"
   ]
  },
  {
   "cell_type": "code",
   "execution_count": 31,
   "id": "5794ae91",
   "metadata": {},
   "outputs": [
    {
     "name": "stdout",
     "output_type": "stream",
     "text": [
      "{'song': 'La Bamba', 'artist': 'Ritchie Valens', 'lyrics': ('Para bailar la bamba', 'se necesita una poca de gracia', 'una poca de gracia y otra cosita', 'y arriba y arriba'), 'releaseDate': 1958} {'song': 'Protection', 'artist': 'Massive Attack', 'lyrics': ('This girl I know needs some shelter', \"She don't believe anyone can help her\"), 'releaseDate': '1994'}\n",
      "La Bamba\n"
     ]
    }
   ],
   "source": [
    "# Inicializacion\n",
    "dic1 = {\n",
    "    'song':'La Bamba',\n",
    "    'artist':'Ritchie Valens',\n",
    "    'lyrics':('Para bailar la bamba','se necesita una poca de gracia','una poca de gracia y otra cosita','y arriba y arriba'),\n",
    "    'releaseDate':1958\n",
    "}\n",
    "\n",
    "# Inicializar con dict y tupla\n",
    "dic2 = dict(song='Protection',artist='Massive Attack',lyrics=('This girl I know needs some shelter','She don\\'t believe anyone can help her'),releaseDate='1994')\n",
    "\n",
    "print(dic1, dic2)\n",
    "print(dic1['song'])"
   ]
  },
  {
   "cell_type": "code",
   "execution_count": 32,
   "id": "b471b474",
   "metadata": {},
   "outputs": [
    {
     "data": {
      "text/plain": [
       "{'Argentina': 'Buenos Aires', 'Chile': 'Santiago', 'Colombia': 'Bogota'}"
      ]
     },
     "execution_count": 32,
     "metadata": {},
     "output_type": "execute_result"
    }
   ],
   "source": [
    "# Método zip con lista de keys y lista de values\n",
    "pais = ['Argentina','Chile','Colombia']\n",
    "capital = ['Buenos Aires', 'Santiago', 'Bogota']\n",
    "dict(zip(pais,capital))"
   ]
  },
  {
   "cell_type": "code",
   "execution_count": 4,
   "id": "6597a595",
   "metadata": {},
   "outputs": [
    {
     "data": {
      "text/plain": [
       "{1: 2, 2: 4, 3: 6, 4: 8, 5: 10, 6: 12, 7: 14, 8: 16, 9: 18}"
      ]
     },
     "execution_count": 4,
     "metadata": {},
     "output_type": "execute_result"
    }
   ],
   "source": [
    "# Dict comprehension\n",
    "\n",
    "dictComp = {num:num*2 for num in range(1,10)}\n",
    "dictComp"
   ]
  },
  {
   "cell_type": "markdown",
   "id": "2f6c21cb",
   "metadata": {},
   "source": [
    "## Métodos"
   ]
  },
  {
   "cell_type": "code",
   "execution_count": 33,
   "id": "d9fe755a",
   "metadata": {},
   "outputs": [
    {
     "name": "stdout",
     "output_type": "stream",
     "text": [
      "Lista keys:  dict_keys(['song', 'artist', 'lyrics', 'releaseDate'])\n",
      "Lista values:  dict_values(['La Bamba', 'Ritchie Valens', ('Para bailar la bamba', 'se necesita una poca de gracia', 'una poca de gracia y otra cosita', 'y arriba y arriba'), 1958])\n",
      "Lista (key,value):  dict_items([('song', 'La Bamba'), ('artist', 'Ritchie Valens'), ('lyrics', ('Para bailar la bamba', 'se necesita una poca de gracia', 'una poca de gracia y otra cosita', 'y arriba y arriba')), ('releaseDate', 1958)])\n"
     ]
    }
   ],
   "source": [
    "print('Lista keys: ',dic1.keys())\n",
    "print('Lista values: ',dic1.values())\n",
    "print('Lista (key,value): ',dic1.items())\n"
   ]
  },
  {
   "cell_type": "code",
   "execution_count": 34,
   "id": "cdaaf165",
   "metadata": {},
   "outputs": [
    {
     "name": "stdout",
     "output_type": "stream",
     "text": [
      "1958\n"
     ]
    }
   ],
   "source": [
    "print(dic1.get('releaseDate'))"
   ]
  },
  {
   "cell_type": "code",
   "execution_count": 35,
   "id": "827ac776",
   "metadata": {},
   "outputs": [
    {
     "data": {
      "text/plain": [
       "{'song': 'La Bamba',\n",
       " 'artist': 'Ritchie Valens',\n",
       " 'lyrics': ('Para bailar la bamba',\n",
       "  'se necesita una poca de gracia',\n",
       "  'una poca de gracia y otra cosita',\n",
       "  'y arriba y arriba')}"
      ]
     },
     "execution_count": 35,
     "metadata": {},
     "output_type": "execute_result"
    }
   ],
   "source": [
    "del(dic1['releaseDate'])\n",
    "dic1"
   ]
  },
  {
   "cell_type": "code",
   "execution_count": 36,
   "id": "63370207",
   "metadata": {},
   "outputs": [],
   "source": [
    "# Elimina\n",
    "##dic1.clear()"
   ]
  },
  {
   "cell_type": "code",
   "execution_count": 37,
   "id": "8a7dc74f",
   "metadata": {},
   "outputs": [
    {
     "name": "stdout",
     "output_type": "stream",
     "text": [
      "song\n",
      "artist\n",
      "lyrics\n"
     ]
    }
   ],
   "source": [
    "# for\n",
    "for key in dic1:\n",
    "    print(key)"
   ]
  }
 ],
 "metadata": {
  "kernelspec": {
   "display_name": "Python 3 (ipykernel)",
   "language": "python",
   "name": "python3"
  },
  "language_info": {
   "codemirror_mode": {
    "name": "ipython",
    "version": 3
   },
   "file_extension": ".py",
   "mimetype": "text/x-python",
   "name": "python",
   "nbconvert_exporter": "python",
   "pygments_lexer": "ipython3",
   "version": "3.8.13"
  }
 },
 "nbformat": 4,
 "nbformat_minor": 5
}
