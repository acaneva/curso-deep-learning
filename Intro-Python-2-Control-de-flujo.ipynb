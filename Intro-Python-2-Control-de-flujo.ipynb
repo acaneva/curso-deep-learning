{
 "cells": [
  {
   "cell_type": "markdown",
   "id": "d8feb04c",
   "metadata": {},
   "source": [
    "# Intro Python - Estructuras de control"
   ]
  },
  {
   "cell_type": "markdown",
   "id": "649ba4f5",
   "metadata": {},
   "source": [
    "# if-else-elif"
   ]
  },
  {
   "cell_type": "code",
   "execution_count": 7,
   "id": "065f9386",
   "metadata": {},
   "outputs": [
    {
     "name": "stdout",
     "output_type": "stream",
     "text": [
      "Adult\n"
     ]
    }
   ],
   "source": [
    "age = 30\n",
    "\n",
    "if age >=18:\n",
    "    print('Adult')\n",
    "else:\n",
    "    print('Minor')"
   ]
  },
  {
   "cell_type": "code",
   "execution_count": 8,
   "id": "5f9dcfcb",
   "metadata": {},
   "outputs": [
    {
     "name": "stdout",
     "output_type": "stream",
     "text": [
      "Adolescent\n"
     ]
    }
   ],
   "source": [
    "edad = 15\n",
    "\n",
    "if edad >=18:\n",
    "    print('Minor')\n",
    "elif edad >=13:\n",
    "    print('Adolescent')\n",
    "else:\n",
    "    print('Minor')"
   ]
  },
  {
   "cell_type": "code",
   "execution_count": 9,
   "id": "b4fd80bf",
   "metadata": {},
   "outputs": [
    {
     "data": {
      "text/plain": [
       "'Minor'"
      ]
     },
     "execution_count": 9,
     "metadata": {},
     "output_type": "execute_result"
    }
   ],
   "source": [
    "# one line as ternary\n",
    "grupoEtario = \"Adult\" if edad >= 18 else \"Minor\"\n",
    "grupoEtario"
   ]
  },
  {
   "cell_type": "markdown",
   "id": "83fc571a",
   "metadata": {},
   "source": [
    "# Iteraciones: while"
   ]
  },
  {
   "cell_type": "code",
   "execution_count": 7,
   "id": "6a607227",
   "metadata": {},
   "outputs": [
    {
     "name": "stdout",
     "output_type": "stream",
     "text": [
      "1\n",
      "2\n",
      "3\n",
      "4\n",
      "5\n",
      "6\n",
      "7\n",
      "8\n",
      "9\n",
      "10\n"
     ]
    }
   ],
   "source": [
    "i = 0\n",
    "\n",
    "while i < 10:\n",
    "    print(i+1)\n",
    "    i=i+1"
   ]
  },
  {
   "cell_type": "markdown",
   "id": "e8a8ef56",
   "metadata": {},
   "source": [
    "# Iteraciones: for"
   ]
  },
  {
   "cell_type": "code",
   "execution_count": 8,
   "id": "b773e9ff",
   "metadata": {},
   "outputs": [
    {
     "name": "stdout",
     "output_type": "stream",
     "text": [
      "2\n",
      "4\n",
      "6\n",
      "8\n",
      "10\n",
      "12\n",
      "14\n",
      "16\n",
      "18\n",
      "20\n"
     ]
    }
   ],
   "source": [
    "num = [1,2,3,4,5,6,7,8,9,10]\n",
    "\n",
    "for i in num:\n",
    "    print(2*i)"
   ]
  },
  {
   "cell_type": "code",
   "execution_count": 9,
   "id": "267125e1",
   "metadata": {},
   "outputs": [
    {
     "name": "stdout",
     "output_type": "stream",
     "text": [
      "Y\n",
      "o\n",
      " \n",
      "n\n",
      "o\n",
      " \n",
      "s\n",
      "o\n",
      "y\n",
      " \n",
      "m\n",
      "a\n",
      "r\n",
      "i\n",
      "n\n",
      "e\n",
      "r\n",
      "o\n",
      "Y\n",
      "o\n",
      " \n",
      "n\n",
      "o\n",
      " \n",
      "s\n",
      "o\n",
      "y\n",
      " \n",
      "m\n",
      "a\n",
      "r\n",
      "i\n",
      "n\n",
      "e\n",
      "r\n",
      "o\n"
     ]
    }
   ],
   "source": [
    "bamba =\"Yo no soy marinero\"\n",
    "\n",
    "for c in range(0,len(bamba)):\n",
    "    print(bamba[c])\n",
    "    \n",
    "for c in bamba:\n",
    "    print(c)"
   ]
  },
  {
   "cell_type": "markdown",
   "id": "40513111",
   "metadata": {},
   "source": [
    "# Funciones"
   ]
  },
  {
   "cell_type": "code",
   "execution_count": 10,
   "id": "72cf5c8b",
   "metadata": {},
   "outputs": [
    {
     "name": "stdout",
     "output_type": "stream",
     "text": [
      "210.0\n",
      "valor default -> 210.0\n"
     ]
    }
   ],
   "source": [
    "# Posicionales y default\n",
    "\n",
    "def calculaIVA(valor, iva=21):\n",
    "    resultado = valor * iva /100;\n",
    "    return round(resultado,2)\n",
    "\n",
    "print(calculaIVA(1000,21))\n",
    "print('valor default ->' , calculaIVA(1000))"
   ]
  },
  {
   "cell_type": "code",
   "execution_count": 11,
   "id": "aa4c037a",
   "metadata": {},
   "outputs": [
    {
     "name": "stdout",
     "output_type": "stream",
     "text": [
      "210.0\n",
      "valor default -> 210.0\n"
     ]
    }
   ],
   "source": [
    "# Named arguments\n",
    "def calculaIVA(valor=0, iva=21):\n",
    "    resultado = valor * iva /100;\n",
    "    return round(resultado,2)\n",
    "\n",
    "print(calculaIVA(iva=21,valor=1000))\n",
    "print('valor default ->' , calculaIVA(valor=1000))"
   ]
  },
  {
   "cell_type": "markdown",
   "id": "0321f8d2",
   "metadata": {},
   "source": [
    "## Lambda\n",
    "Función anónima que se escribe inline"
   ]
  },
  {
   "cell_type": "code",
   "execution_count": 12,
   "id": "1b87736f",
   "metadata": {},
   "outputs": [
    {
     "data": {
      "text/plain": [
       "5"
      ]
     },
     "execution_count": 12,
     "metadata": {},
     "output_type": "execute_result"
    }
   ],
   "source": [
    "sumar = lambda a,b: a+b\n",
    "\n",
    "sumar(2,3)"
   ]
  },
  {
   "cell_type": "markdown",
   "id": "239b12e8",
   "metadata": {},
   "source": [
    "## Modules\n",
    "\n",
    "Python files are called modules. A module can define functions, classes and variables.\n",
    "\n",
    "So when the interpreter runs a module, the __name__ variable will be set as __main__ if the module being run is the main program.\n",
    "\n",
    "**a.py**\n",
    "```\n",
    "print(__init__)\n",
    "```\n",
    "\n",
    "```\n",
    "> python a.py\n",
    "main\n",
    "```\n",
    "\n",
    "But if the code is importing the module from another module, then the __name__ variable will be set to that module’s name.\n",
    "\n",
    "**b.py**\n",
    "```\n",
    "import a\n",
    "```\n",
    "\n",
    "```\n",
    "> python b.py\n",
    "a\n",
    "```\n",
    "\n",
    "Por eso los módulos suelen tener su segmento main protegido para ser ejecutado sólo si se lo ejecuta directamente. Si uno lo importa no se ejecuta\n",
    "\n",
    "```\n",
    "if __name__ == \"__main__\":\n",
    "#Your code goes here\n",
    "```"
   ]
  },
  {
   "cell_type": "markdown",
   "id": "514a3daa",
   "metadata": {},
   "source": [
    "## Classes\n",
    "\n",
    "[Data Models](https://docs.python.org/3/reference/datamodel.html)"
   ]
  },
  {
   "cell_type": "markdown",
   "id": "5c92c880",
   "metadata": {},
   "source": [
    "### Dunders or Magic Methods\n",
    "- [Magic Methods](https://www.geeksforgeeks.org/dunder-magic-methods-python/)\n",
    "- [Operators Overload](https://www.geeksforgeeks.org/operator-overloading-in-python/#:~:text=Operator%20Overloading%20means%20giving%20extended,int%20class%20and%20str%20class.)\n",
    "\n",
    "**Binary Operators**\n",
    "\n",
    "```\n",
    "Op\tMagic Method\n",
    "+\t__add__(self, other)\n",
    "–\t__sub__(self, other)\n",
    "*\t__mul__(self, other)\n",
    "/\t__truediv__(self, other)\n",
    "//\t__floordiv__(self, other)\n",
    "%\t__mod__(self, other)\n",
    "**\t__pow__(self, other)\n",
    ">>\t__rshift__(self, other)\n",
    "<<\t__lshift__(self, other)\n",
    "&\t__and__(self, other)\n",
    "|\t__or__(self, other)\n",
    "^\t__xor__(self, other)\n",
    "```\n",
    "\n",
    "**Comparison Operators**\n",
    "\n",
    "```\n",
    "Op\tMagic Method\n",
    "<\t__lt__(self, other)\n",
    ">\t__gt__(self, other)\n",
    "<=\t__le__(self, other)\n",
    ">=\t__ge__(self, other)\n",
    "==\t__eq__(self, other)\n",
    "!=\t__ne__(self, other)\n",
    "```\n",
    "\n",
    "**Assignment Operators**\n",
    "\n",
    "```\n",
    "Op\tMagic Method\n",
    "-=\t__isub__(self, other)\n",
    "+=\t__iadd__(self, other)\n",
    "*=\t__imul__(self, other)\n",
    "/=\t__idiv__(self, other)\n",
    "//=\t__ifloordiv__(self, other)\n",
    "%=\t__imod__(self, other)\n",
    "**=\t__ipow__(self, other)\n",
    ">>=\t__irshift__(self, other)\n",
    "<<=\t__ilshift__(self, other)\n",
    "&=\t__iand__(self, other)\n",
    "|=\t__ior__(self, other)\n",
    "^=\t__ixor__(self, other)\n",
    "```\n",
    "\n",
    "**Unary Operators**\n",
    "\n",
    "```\n",
    "Op\tMagic Method\n",
    "–\t__neg__(self)\n",
    "+\t__pos__(self)\n",
    "~\t__invert__(self)\n",
    "```\n",
    "\n"
   ]
  },
  {
   "cell_type": "code",
   "execution_count": 13,
   "id": "be40aa6e",
   "metadata": {},
   "outputs": [
    {
     "name": "stdout",
     "output_type": "stream",
     "text": [
      "3\n",
      "Yo No Soy\n"
     ]
    }
   ],
   "source": [
    "# __init__ es el constructor\n",
    "\n",
    "class A:\n",
    "    def __init__(self, a):\n",
    "        self.a = a\n",
    "  \n",
    "    # adding two objects \n",
    "    def __add__(self, o):\n",
    "        return self.a + o.a \n",
    "ob1 = A(1)\n",
    "ob2 = A(2)\n",
    "ob3 = A(\"Yo \")\n",
    "ob4 = A(\"No Soy\")\n",
    "  \n",
    "print(ob1 + ob2)\n",
    "print(ob3 + ob4)"
   ]
  },
  {
   "cell_type": "code",
   "execution_count": 19,
   "id": "eba75c7c",
   "metadata": {},
   "outputs": [
    {
     "data": {
      "text/plain": [
       "(\"Adrian\",\"Caneva\",54)"
      ]
     },
     "execution_count": 19,
     "metadata": {},
     "output_type": "execute_result"
    }
   ],
   "source": [
    "#__repr__\n",
    "\n",
    "class Person:\n",
    "    def __init__(self, first_name, last_name, age):\n",
    "        self.first_name = first_name\n",
    "        self.last_name = last_name\n",
    "        self.age = age\n",
    "\n",
    "    def __repr__(self):\n",
    "        return f'(\"{self.first_name}\",\"{self.last_name}\",{self.age})'\n",
    "    \n",
    "adrian = Person('Adrian','Caneva',54)\n",
    "adrian"
   ]
  },
  {
   "cell_type": "code",
   "execution_count": 24,
   "id": "f0696717",
   "metadata": {},
   "outputs": [
    {
     "data": {
      "text/plain": [
       "'S'"
      ]
     },
     "execution_count": 24,
     "metadata": {},
     "output_type": "execute_result"
    }
   ],
   "source": [
    "#__getitem__ ([])\n",
    "\n",
    "class String:\n",
    "    def __init__(self, str):\n",
    "        self.string = str\n",
    "        \n",
    "str1 = String('Yo no soy marinero')\n",
    "\n",
    "#str1[2] \n",
    "#TypeError: 'String' object does not support indexing\n",
    "\n",
    "\n",
    "class String:\n",
    "    def __init__(self, str):\n",
    "        self.string = str\n",
    "    \n",
    "    def __getitem__(self, index):\n",
    "        return self.string[index]\n",
    "    \n",
    "str2 = String('Soy capitan')\n",
    "\n",
    "str2[0]\n",
    "\n"
   ]
  },
  {
   "cell_type": "code",
   "execution_count": null,
   "id": "bdb864b7",
   "metadata": {},
   "outputs": [],
   "source": [
    "#__len__ (len(obj))\n",
    "\n",
    "class String:\n",
    "    def __init__(self, str):\n",
    "        self.string = str\n",
    "    \n",
    "    def __getitem__(self, index):\n",
    "        return self.string[index]\n",
    "    \n",
    "    def __len__(self):\n",
    "        return len(self.string)\n",
    "    \n",
    "str3 = Strin'Bamba'"
   ]
  }
 ],
 "metadata": {
  "kernelspec": {
   "display_name": "Python 3 (ipykernel)",
   "language": "python",
   "name": "python3"
  },
  "language_info": {
   "codemirror_mode": {
    "name": "ipython",
    "version": 3
   },
   "file_extension": ".py",
   "mimetype": "text/x-python",
   "name": "python",
   "nbconvert_exporter": "python",
   "pygments_lexer": "ipython3",
   "version": "3.8.13"
  }
 },
 "nbformat": 4,
 "nbformat_minor": 5
}
